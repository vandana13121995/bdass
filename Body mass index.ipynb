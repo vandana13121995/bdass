{
 "cells": [
  {
   "cell_type": "markdown",
   "id": "beb5bacb",
   "metadata": {},
   "source": [
    "Program that calculates a person’s BMI (Body Mass Index)"
   ]
  },
  {
   "cell_type": "code",
   "execution_count": 1,
   "id": "7e366051",
   "metadata": {},
   "outputs": [
    {
     "name": "stdout",
     "output_type": "stream",
     "text": [
      "Enter height (in inches):2\n",
      "Enter weight(in pounds):39\n",
      "height: 2.0 weight: 39.0 BMI: 6854.25\n",
      "The National Institute of Health(NIH) categorizes BMI above 30 as Obese\n"
     ]
    }
   ],
   "source": [
    "#calculates a person's BMI(Body Mass Index)\n",
    "\n",
    "height=float(input(\"Enter height (in inches):\"))\n",
    "weight=float(input(\"Enter weight(in pounds):\"))\n",
    "BMI=703*(weight/(height*height))                     #calculates BMI\n",
    "print(\"height:\", height,\"weight:\", weight,\"BMI:\", BMI)\n",
    "if BMI<18.5:\n",
    "    print(\"The National Institute of Health(NIH) categorizes BMI below 18.5 as Under weight \")\n",
    "elif BMI>=18.5 and BMI<25:\n",
    "    print(\"The National Institute of Health(NIH) categorizes BMI above or equal to 18.5 and below 25 as Normal weight\")\n",
    "elif BMI>=25 and BMI<30:\n",
    "    print(\"The National Institute of Health(NIH) categorizes BMI above or equal to 25 and below 30 as Over weight\")\n",
    "else:\n",
    "    print(\"The National Institute of Health(NIH) categorizes BMI above 30 as Obese\")\n"
   ]
  },
  {
   "cell_type": "code",
   "execution_count": null,
   "id": "70c8f43c",
   "metadata": {},
   "outputs": [],
   "source": []
  },
  {
   "cell_type": "code",
   "execution_count": null,
   "id": "e4ba1a67",
   "metadata": {},
   "outputs": [],
   "source": []
  }
 ],
 "metadata": {
  "kernelspec": {
   "display_name": "Python 3",
   "language": "python",
   "name": "python3"
  },
  "language_info": {
   "codemirror_mode": {
    "name": "ipython",
    "version": 3
   },
   "file_extension": ".py",
   "mimetype": "text/x-python",
   "name": "python",
   "nbconvert_exporter": "python",
   "pygments_lexer": "ipython3",
   "version": "3.8.8"
  }
 },
 "nbformat": 4,
 "nbformat_minor": 5
}
